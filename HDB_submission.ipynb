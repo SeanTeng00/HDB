{
 "cells": [
  {
   "cell_type": "code",
   "execution_count": null,
   "id": "953ef087-a4f2-477f-9f59-2b1f5c624050",
   "metadata": {},
   "outputs": [],
   "source": [
    "import pandas as pd\n",
    "import numpy as np\n",
    "import matplotlib as plt"
   ]
  },
  {
   "cell_type": "code",
   "execution_count": null,
   "id": "0beebf54-128a-4541-96b6-d120ee2c8222",
   "metadata": {},
   "outputs": [],
   "source": [
    "# Read Rental dataset and check it's info\n",
    "main_rent = pd.read_csv(\"/Users/seanteng/Downloads/RentingOutofFlats2024CSV.csv\")\n",
    "print(main_rent.info())\n",
    "main_rent.head()"
   ]
  },
  {
   "cell_type": "code",
   "execution_count": null,
   "id": "a7d1b858-cdbd-46d4-bf20-8a39cbbc7f47",
   "metadata": {},
   "outputs": [],
   "source": [
    "# Drop NA values, if any, and check info again\n",
    "main_rent_1 = main_rent.dropna()\n",
    "main_rent_1.info()"
   ]
  },
  {
   "cell_type": "code",
   "execution_count": null,
   "id": "b4b06e9d-b689-4da9-95d3-0723086e162b",
   "metadata": {},
   "outputs": [],
   "source": [
    "# Outliers using interquartile\n",
    "# Calculate 25th and 75th percentile and the IQR\n",
    "q1_rent = np.percentile(main_rent_1['monthly_rent'], 25)\n",
    "q3_rent = np.percentile(main_rent_1['monthly_rent'], 75)\n",
    "iqr = int(q3_rent - q1_rent)\n",
    "print(iqr)\n",
    "\n",
    "# Get lower and upper bound; original is 1.5 of iqr\n",
    "lower_bound = int(q1_rent - 1.6*iqr)\n",
    "upper_bound = int(q3_rent + 2*iqr)\n",
    "print(lower_bound)\n",
    "print(upper_bound)"
   ]
  },
  {
   "cell_type": "code",
   "execution_count": null,
   "id": "e1a48ec6-5631-4fa6-8338-543fcbcb1fcb",
   "metadata": {},
   "outputs": [],
   "source": [
    "# Check and label each row to identify if they are outliers\n",
    "main_rent_1['Check outlier'] = \"\"\n",
    "for i in range(main_rent_1.shape[0]):\n",
    "    if main_rent_1['monthly_rent'][i] < lower_bound:\n",
    "        main_rent_1.loc[i, 'Check outlier'] = \"Below lower bound\"\n",
    "    elif main_rent_1['monthly_rent'][i] > upper_bound:\n",
    "        main_rent_1.loc[i, 'Check outlier'] = \"Above upper bound\"\n",
    "    else:\n",
    "        main_rent_1.loc[i, 'Check outlier'] = \"\"\n",
    "\n",
    "main_rent_1.head()"
   ]
  },
  {
   "cell_type": "code",
   "execution_count": null,
   "id": "2ce637ce-f065-46ba-8423-c52e0621ac08",
   "metadata": {},
   "outputs": [],
   "source": [
    "# View the rows which are outliers\n",
    "main_rent_1.loc[(main_rent_1['Check outlier'] == 'Below lower bound') | (main_rent_1['Check outlier'] == 'Above upper bound')]"
   ]
  },
  {
   "cell_type": "code",
   "execution_count": null,
   "id": "481e0878-a941-40df-923f-f550be4f0685",
   "metadata": {},
   "outputs": [],
   "source": [
    "# Extract Year and Month from the date field\n",
    "main_rent_1['Year'] = 0\n",
    "main_rent_1['Month'] = 0\n",
    "for i in range(main_rent_1.shape[0]):\n",
    "    main_rent_1.loc[i, 'Year'] = main_rent_1.loc[i, 'rent_approval_date'][0:4]\n",
    "    main_rent_1.loc[i, 'Month'] = main_rent_1.loc[i, 'rent_approval_date'][(len(main_rent_1.loc[0, 'rent_approval_date'])-2):(len(main_rent_1.loc[0, 'rent_approval_date']))]\n",
    "print(main_rent_1.info())\n",
    "main_rent_1.head()"
   ]
  },
  {
   "cell_type": "code",
   "execution_count": null,
   "id": "c41bae35-38bb-471d-9b12-015a0757f598",
   "metadata": {},
   "outputs": [],
   "source": [
    "# Taking a sample of 7 towns for the year 2021 and comparing their average rent for each flat type\n",
    "main_rent_1.groupby(by=['Year','town','flat_type']).mean('monthly_rent').reset_index().pivot(index = ['Year','flat_type'], columns = 'town',values = 'monthly_rent').fillna(0).astype(int).drop(index='0001').loc['2021', ['ANG MO KIO','BISHAN','QUEENSTOWN','WOODLANDS','PUNGGOL','JURONG WEST','YISHUN']]"
   ]
  },
  {
   "cell_type": "code",
   "execution_count": null,
   "id": "3882435f-a4f0-49a9-86cf-e6948e10f27f",
   "metadata": {},
   "outputs": [],
   "source": [
    "# Plotting the above on a line chart\n",
    "main_rent_1.groupby(by=['Year','town','flat_type']).mean('monthly_rent').reset_index().pivot(index = ['Year','flat_type'], columns = 'town',values = 'monthly_rent').fillna(0).astype(int).drop(index='0001').loc['2021', ['ANG MO KIO','BISHAN','QUEENSTOWN','WOODLANDS','PUNGGOL','JURONG WEST','YISHUN']].plot.line(title='2021 comparison of flat type against location',lw=3, figsize=(5,5))"
   ]
  },
  {
   "cell_type": "code",
   "execution_count": null,
   "id": "0f42ed80-08d2-48fd-9f20-849a7ee1e439",
   "metadata": {},
   "outputs": [],
   "source": [
    "# Getting the average rent price for each town from 2021 to 2024\n",
    "main_rent_1_group = main_rent_1.loc[main_rent_1['Check outlier']==\"\"].groupby(by = ['Year', 'town']).mean('monthly_rent').reset_index().pivot(index = 'Year', columns = 'town', values = 'monthly_rent').drop(index = '0001').dropna(axis=1).astype(int)\n",
    "main_rent_1_group"
   ]
  },
  {
   "cell_type": "code",
   "execution_count": null,
   "id": "51a3eb27-57f1-49bf-8579-847ab1dbe85c",
   "metadata": {},
   "outputs": [],
   "source": [
    "# Plotting the above to see the trend throughout the years\n",
    "main_rent_1_group.plot.line(figsize = (5,7)).legend(fontsize = 6, loc = 'upper left')"
   ]
  },
  {
   "cell_type": "code",
   "execution_count": null,
   "id": "22280914-92a5-41e6-81be-571cd7a94cc8",
   "metadata": {},
   "outputs": [],
   "source": [
    "# Checking trend of average rent price for each flat type from 2021 to 2024\n",
    "main_rent_2_group = main_rent_1.loc[main_rent_1['Check outlier']==\"\"].groupby(by = ['Year', 'flat_type']).mean('monthly_rent').reset_index().pivot(index = 'Year', columns = 'flat_type', values = 'monthly_rent').drop(index = '0001').dropna(axis=1).astype(int)\n",
    "main_rent_2_group"
   ]
  },
  {
   "cell_type": "code",
   "execution_count": null,
   "id": "a78b2296-d1d8-4e34-81a4-b14738389d76",
   "metadata": {},
   "outputs": [],
   "source": [
    "# Plotting the above in a bar chart\n",
    "main_rent_2_group.plot.bar(figsize = (5,5)).legend(fontsize = 7, loc = 'upper left')"
   ]
  },
  {
   "cell_type": "code",
   "execution_count": null,
   "id": "7ccac3e3-d121-41a0-8261-60ec86f9315f",
   "metadata": {},
   "outputs": [],
   "source": [
    "# Checking average monthly rent for all towns and all flat types from 2021 to 2024\n",
    "main_rent_1_group_1 = main_rent_1.loc[main_rent_1['Check outlier']==\"\"].groupby(by = ['Year']).mean('monthly_rent').drop(index = '0001')\n",
    "main_rent_1_group_1"
   ]
  },
  {
   "cell_type": "code",
   "execution_count": null,
   "id": "1cc54294-10f7-40f9-b35b-066764ecef05",
   "metadata": {},
   "outputs": [],
   "source": [
    "# Converting values to integer\n",
    "main_rent_1_group_1['monthly_rent'] = main_rent_1_group_1['monthly_rent'].apply(lambda x: int(x))\n",
    "main_rent_1_group_2 = main_rent_1_group_1.rename(columns = {\"monthly_rent\":\"Avg monthly rent\"})\n",
    "main_rent_1_group_2.head()"
   ]
  },
  {
   "cell_type": "code",
   "execution_count": null,
   "id": "52cf6b8a-7bc4-4a71-8cba-4e47a64306d0",
   "metadata": {},
   "outputs": [],
   "source": [
    "# Plotting the above on line chart\n",
    "main_rent_1_group_2.plot.line(lw = 5)"
   ]
  },
  {
   "cell_type": "code",
   "execution_count": null,
   "id": "6e4c5637-e370-4deb-b581-b661143da294",
   "metadata": {},
   "outputs": [],
   "source": [
    "# Read bank interest rate dataset and check its info\n",
    "main_bank_interest_rate = pd.read_csv(\"/Users/seanteng/Downloads/CurrentBanksInterestRatesEndOfPeriodMonthly.csv\", index_col = 0)\n",
    "print(main_bank_interest_rate.info())\n",
    "main_bank_interest_rate.head()"
   ]
  },
  {
   "cell_type": "code",
   "execution_count": null,
   "id": "9b6899de-7cea-4490-b458-5f9b20ed302d",
   "metadata": {},
   "outputs": [],
   "source": [
    "# Transpose dataset to make it a long dataset instead of a wide dataset\n",
    "main_bank_interest_rate_1 = main_bank_interest_rate.transpose()\n",
    "main_bank_interest_rate_2 = main_bank_interest_rate_1.reset_index().rename(columns = {\"index\":\"Year Month\"})\n",
    "main_bank_interest_rate_2.head()"
   ]
  },
  {
   "cell_type": "code",
   "execution_count": null,
   "id": "ebf45e52-d505-4cb2-88c8-86f26fd17c1d",
   "metadata": {},
   "outputs": [],
   "source": [
    "# Extract Year from date\n",
    "main_bank_interest_rate_2['Year'] = \"\"\n",
    "for i in range(main_bank_interest_rate_2.shape[0]):\n",
    "    main_bank_interest_rate_2.loc[i, 'Year'] = main_bank_interest_rate_2.loc[i, 'Year Month'][0:4]\n",
    "print(main_bank_interest_rate_2.info())\n",
    "main_bank_interest_rate_2.head()"
   ]
  },
  {
   "cell_type": "code",
   "execution_count": null,
   "id": "b0c829ab-c897-450a-8451-9ccc54de4927",
   "metadata": {},
   "outputs": [],
   "source": [
    "# Get data for 2021 to 2024 and convert interest rate to float\n",
    "main_bank_interest_rate_3 = main_bank_interest_rate_2.loc[(main_bank_interest_rate_2['Year'] == '2024')|(main_bank_interest_rate_2['Year'] == '2023')|(main_bank_interest_rate_2['Year'] == '2022')|(main_bank_interest_rate_2['Year'] == '2021')]\n",
    "main_bank_interest_rate_3[\"Singapore Overnight Rate Average\"] = main_bank_interest_rate_3[\"Singapore Overnight Rate Average\"].apply(lambda x: float(x))\n",
    "print(main_bank_interest_rate_3.info())"
   ]
  },
  {
   "cell_type": "code",
   "execution_count": null,
   "id": "3497235e-fc4e-48e2-bff7-e303e26a0cfc",
   "metadata": {},
   "outputs": [],
   "source": [
    "# Group by year and get the average interest rate for the year\n",
    "main_bank_interest_rate_3_group = main_bank_interest_rate_3.groupby(by = \"Year\").mean(\"Singapore Overnight Rate Average\")\n",
    "main_bank_interest_rate_3_group"
   ]
  },
  {
   "cell_type": "code",
   "execution_count": null,
   "id": "38da2317-258c-4085-8f66-bec128cd1c05",
   "metadata": {},
   "outputs": [],
   "source": [
    "# Plot the above on a line chart\n",
    "main_bank_interest_rate_3_group.plot.line(figsize=(5,5),lw=4, color = 'g', title='Avg SORA per year')"
   ]
  },
  {
   "cell_type": "code",
   "execution_count": null,
   "id": "611064fc-4d36-480c-a2c6-66e0691b3a2b",
   "metadata": {},
   "outputs": [],
   "source": [
    "# Read income tax data and check info\n",
    "main_income_tax = pd.read_csv(\"/Users/seanteng/Downloads/TaxableIndividualsbyAssessedIncomeGroup.csv\")\n",
    "print(main_income_tax.info())\n",
    "main_income_tax.head()"
   ]
  },
  {
   "cell_type": "code",
   "execution_count": null,
   "id": "b8542cd6-64fb-4865-be27-3cf8b8a0e979",
   "metadata": {},
   "outputs": [],
   "source": [
    "# Filter for year 2021 to 2024\n",
    "main_income_tax_1 = main_income_tax.loc[(main_income_tax['year_of_assessment'] == 2021)|(main_income_tax['year_of_assessment'] == 2022)|(main_income_tax['year_of_assessment'] == 2023)|(main_income_tax['year_of_assessment'] == 2024)]\n",
    "main_income_tax_1.head()"
   ]
  },
  {
   "cell_type": "code",
   "execution_count": null,
   "id": "74d3fbe2-8122-419c-909d-3c257b89fd50",
   "metadata": {},
   "outputs": [],
   "source": [
    "# Filter for income group $80k and above\n",
    "main_income_tax_2 = main_income_tax_1.loc[(main_income_tax_1['assessed_income_group'] == '80,001 - 100,000')|\n",
    "(main_income_tax_1['assessed_income_group'] == '100,001 - 150,000')|(main_income_tax_1['assessed_income_group'] == '150,001 - 200,000')|\n",
    "(main_income_tax_1['assessed_income_group'] == '200,001 - 300,000')|(main_income_tax_1['assessed_income_group'] == '300,001 - 400,000')|\n",
    "(main_income_tax_1['assessed_income_group'] == '400,001 - 500,000')|(main_income_tax_1['assessed_income_group'] == '500,001 - 1,000,000')|\n",
    "(main_income_tax_1['assessed_income_group'] == '1,000,001 & above')]\n",
    "main_income_tax_2.head()"
   ]
  },
  {
   "cell_type": "code",
   "execution_count": null,
   "id": "1c9998c3-114a-45dd-bbc4-35ef06eb862a",
   "metadata": {},
   "outputs": [],
   "source": [
    "# Check no. of taxpayers and their assessable income for income group of $80k and above\n",
    "main_income_tax_3 = main_income_tax_2.groupby(by = 'year_of_assessment').sum('number_of_taxpayers')\n",
    "main_income_tax_3"
   ]
  },
  {
   "cell_type": "code",
   "execution_count": null,
   "id": "a47cfc9e-e6ba-4362-b139-61077b024734",
   "metadata": {},
   "outputs": [],
   "source": [
    "# Plot the no. of taxpayers on a bar chart\n",
    "main_income_tax_3['number_of_taxpayers'].plot.bar(color='orange', figsize = (5,5), title = 'No. of taxpayers above $80k annual')"
   ]
  },
  {
   "cell_type": "code",
   "execution_count": null,
   "id": "41b58e62-47d0-4106-84e4-08a76b41819f",
   "metadata": {},
   "outputs": [],
   "source": [
    "# Plot the assessable income on a bar chart\n",
    "main_income_tax_3['assessable_income'].plot.bar(color = 'g', figsize = (5,5), title='Assessable income of tax payers > $80k per annum')"
   ]
  },
  {
   "cell_type": "code",
   "execution_count": null,
   "id": "f3666a21-48f4-4add-8794-f1e020e7ddf3",
   "metadata": {},
   "outputs": [],
   "source": [
    "# Read the Foreign Workforce dataset and check info\n",
    "main_foreign_workforce = pd.read_csv(\"/Users/seanteng/Downloads/StockofForeignWorkforcebyPassType.csv\")\n",
    "print(main_foreign_workforce.info())\n",
    "main_foreign_workforce.head()"
   ]
  },
  {
   "cell_type": "code",
   "execution_count": null,
   "id": "51650e9e-abda-49b8-bca4-2081830097f4",
   "metadata": {},
   "outputs": [],
   "source": [
    "# Change 'count' column to integer\n",
    "main_foreign_workforce['count'] = main_foreign_workforce['count'].str.replace(\",\",\"\")\n",
    "main_foreign_workforce\n",
    "main_foreign_workforce['count'] = main_foreign_workforce['count'].apply(lambda x: int(x))\n",
    "print(main_foreign_workforce.info())\n",
    "main_foreign_workforce.head()"
   ]
  },
  {
   "cell_type": "code",
   "execution_count": null,
   "id": "d391cfb6-ff2b-4c28-8c65-f01d6dee6203",
   "metadata": {},
   "outputs": [],
   "source": [
    "# Filter for employment pass and s pass\n",
    "main_foreign_workforce_emp_s = main_foreign_workforce.loc[(main_foreign_workforce['work_pass_type']=='employment_pass')|(main_foreign_workforce['work_pass_type']=='s_pass')]\n",
    "main_foreign_workforce_emp_s"
   ]
  },
  {
   "cell_type": "code",
   "execution_count": null,
   "id": "b9df36eb-5197-477b-90fe-de3a7b8f3c31",
   "metadata": {},
   "outputs": [],
   "source": [
    "# Group by Year and Workpass type\n",
    "main_foreign_workforce_emp_s.groupby(by = ['month','work_pass_type']).sum()"
   ]
  },
  {
   "cell_type": "code",
   "execution_count": null,
   "id": "654eb267-6ec5-40e0-ae44-a8948d6b6055",
   "metadata": {},
   "outputs": [],
   "source": [
    "# Plot the above on a line chart\n",
    "main_foreign_workforce_emp_s.pivot(index = 'month', columns = 'work_pass_type')['count'].plot.line(figsize=(5,5),lw=4,title='Trend of no. of employment pass and s pass')"
   ]
  },
  {
   "cell_type": "code",
   "execution_count": null,
   "id": "56cc5bef-c21d-41ca-8f57-77b0b1978b79",
   "metadata": {},
   "outputs": [],
   "source": [
    "# Read Unemployment dataset and check info\n",
    "main_unemployment = pd.read_csv(\"/Users/seanteng/Downloads/OverallUnemploymentRateQuarterly.csv\")\n",
    "print(main_unemployment.info())\n",
    "main_unemployment.head()"
   ]
  },
  {
   "cell_type": "code",
   "execution_count": null,
   "id": "86ba343a-224e-4b40-93d2-2483fe687502",
   "metadata": {},
   "outputs": [],
   "source": [
    "# Extract Year part\n",
    "main_unemployment['Year'] = \"\"\n",
    "for i in range(main_unemployment.shape[0]):\n",
    "    main_unemployment.loc[i, 'Year'] = main_unemployment.loc[i, 'period'][0:4]\n",
    "main_unemployment.head()"
   ]
  },
  {
   "cell_type": "code",
   "execution_count": null,
   "id": "3b4e2dc0-f840-4cd2-b7a2-ea095cbb04e0",
   "metadata": {},
   "outputs": [],
   "source": [
    "# Filter for 2021 to 2024\n",
    "main_unemployment_1 = main_unemployment.loc[(main_unemployment['Year'] == '2021')|(main_unemployment['Year'] == '2022')|\n",
    "(main_unemployment['Year'] == '2023')|(main_unemployment['Year'] == '2024')]\n",
    "main_unemployment_1.head()"
   ]
  },
  {
   "cell_type": "code",
   "execution_count": null,
   "id": "f119a244-9431-4f00-9193-fc6d22ac3251",
   "metadata": {},
   "outputs": [],
   "source": [
    "# Plot the unemployment rate on a line chart\n",
    "main_unemployment_1.groupby(by = 'Year').mean('seasonally_adj_unemp_rate')['seasonally_adj_unemp_rate'].plot.line(figsize=(5,5), lw=4, title='Unemployment rate')"
   ]
  },
  {
   "cell_type": "code",
   "execution_count": null,
   "id": "71f341cb-f40f-447a-be76-80a73c1dd32c",
   "metadata": {},
   "outputs": [],
   "source": [
    "# Read the Resale Flat Price dataset and check info\n",
    "main_flat_prices = pd.read_csv('/Users/seanteng/Downloads/ResaleflatpricesbasedonregistrationdatefromJan2017onwards.csv')\n",
    "print(main_flat_prices.info())\n",
    "main_flat_prices.head()"
   ]
  },
  {
   "cell_type": "code",
   "execution_count": null,
   "id": "dfb18989-1f6d-42d0-9963-591d639e3482",
   "metadata": {},
   "outputs": [],
   "source": [
    "# Extract year part\n",
    "main_flat_prices['Year'] = \"\"\n",
    "for i in range(main_flat_prices.shape[0]):\n",
    "    main_flat_prices.loc[i, 'Year'] = main_flat_prices.loc[i, 'month'][0:4]\n",
    "main_flat_prices.head()"
   ]
  },
  {
   "cell_type": "code",
   "execution_count": null,
   "id": "cfefa365-e969-436f-8ba9-be6f254544b0",
   "metadata": {},
   "outputs": [],
   "source": [
    "# Filter for 2021 to 2024\n",
    "main_flat_prices_1 = main_flat_prices.loc[(main_flat_prices['Year'] == '2021')|(main_flat_prices['Year'] == '2022')|\n",
    "(main_flat_prices['Year'] == '2023')|(main_flat_prices['Year'] == '2024')]\n",
    "main_flat_prices_1.head()"
   ]
  },
  {
   "cell_type": "code",
   "execution_count": null,
   "id": "1b24fe1e-0929-4f89-a014-17d8c11f3540",
   "metadata": {},
   "outputs": [],
   "source": [
    "# Plot the resale price for 2021 to 2024 on a bar chart\n",
    "main_flat_prices_1.groupby(by = 'Year').mean('resale_price')['resale_price'].plot.bar(figsize=(5,5),lw=4,title='Avg resale price of flats', color='blue', ylim=(400000,630000))"
   ]
  }
 ],
 "metadata": {
  "kernelspec": {
   "display_name": "Python 3 (ipykernel)",
   "language": "python",
   "name": "python3"
  },
  "language_info": {
   "codemirror_mode": {
    "name": "ipython",
    "version": 3
   },
   "file_extension": ".py",
   "mimetype": "text/x-python",
   "name": "python",
   "nbconvert_exporter": "python",
   "pygments_lexer": "ipython3",
   "version": "3.9.6"
  }
 },
 "nbformat": 4,
 "nbformat_minor": 5
}
